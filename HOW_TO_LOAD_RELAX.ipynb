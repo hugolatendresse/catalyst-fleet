{
 "cells": [
  {
   "cell_type": "code",
   "execution_count": 1,
   "metadata": {},
   "outputs": [],
   "source": [
    "import os\n",
    "os.environ['PYTHONPATH'] = '/ssd1/htalendr/tvm/python:' + os.environ.get('PYTHONPATH', '')\n",
    "import sys\n",
    "sys.path.append('/ssd1/htalendr/tvm/python')\n",
    "from tvm import relax"
   ]
  },
  {
   "cell_type": "code",
   "execution_count": null,
   "metadata": {},
   "outputs": [],
   "source": []
  },
  {
   "cell_type": "code",
   "execution_count": 18,
   "metadata": {},
   "outputs": [
    {
     "name": "stdout",
     "output_type": "stream",
     "text": [
      "['/ssd1/htalendr/miniconda3/envs/env1/lib/python312.zip', '/ssd1/htalendr/miniconda3/envs/env1/lib/python3.12', '/ssd1/htalendr/miniconda3/envs/env1/lib/python3.12/lib-dynload', '', '/ssd1/htalendr/miniconda3/envs/env1/lib/python3.12/site-packages', '/ssd1/htalendr/tvm/python', '/ssd1/htalendr/miniconda3/envs/env1/lib/python3.12/site-packages/setuptools/_vendor', '/tmp/tmpg3x_7yrj']\n"
     ]
    }
   ],
   "source": []
  }
 ],
 "metadata": {
  "kernelspec": {
   "display_name": "env1",
   "language": "python",
   "name": "python3"
  },
  "language_info": {
   "codemirror_mode": {
    "name": "ipython",
    "version": 3
   },
   "file_extension": ".py",
   "mimetype": "text/x-python",
   "name": "python",
   "nbconvert_exporter": "python",
   "pygments_lexer": "ipython3",
   "version": "3.12.2"
  }
 },
 "nbformat": 4,
 "nbformat_minor": 2
}
